{
  "cells": [
    {
      "cell_type": "raw",
      "id": "1302a608-4b4d-46bf-bd0c-b4f13eff2e5e",
      "metadata": {
        "id": "1302a608-4b4d-46bf-bd0c-b4f13eff2e5e"
      },
      "source": [
        "# Synthetic data generation"
      ]
    },
    {
      "cell_type": "markdown",
      "source": [
        "### How Is it done ??\n",
        "\n",
        "Some of the modelling techniques used:\n",
        "- Classic statistical methods\n",
        "- Deep Learning models (GAN , VAE behind the scene)\n",
        "- Mix of classic statistical models and Deep Learning.\n",
        "\n",
        "Once synthetic data is generated, we need to evaluate it to make sure it is OK to use in downstream tasks. There are many libraries, websites offering these kind of solutions. But here, we focus in GenAI part."
      ],
      "metadata": {
        "id": "0AtyLRnxSD2g"
      },
      "id": "0AtyLRnxSD2g"
    },
    {
      "cell_type": "markdown",
      "id": "aa3571cc",
      "metadata": {
        "id": "aa3571cc"
      },
      "source": [
        "## Use case\n",
        "\n",
        "Synthetic data refers to artificially generated data that imitates the characteristics of real data without containing any information from actual individuals or entities. It is typically created through mathematical models, algorithms, or other data generation techniques. Synthetic data can be used for a variety of purposes, including testing, research, and training machine learning models, while preserving privacy and security.\n",
        "\n",
        "Benefits of Synthetic Data:\n",
        "\n",
        "1. **Privacy and Security**: No real personal data at risk of breaches.\n",
        "2. **Data Augmentation**: Expands datasets for machine learning.\n",
        "3. **Flexibility**: Create specific or rare scenarios.\n",
        "4. **Cost-effective**: Often cheaper than real-world data collection.\n",
        "5. **Regulatory Compliance**: Helps navigate strict data protection laws.\n",
        "6. **Model Robustness**: Can lead to better generalizing AI models.\n",
        "7. **Rapid Prototyping**: Enables quick testing without real data.\n",
        "8. **Controlled Experimentation**: Simulate specific conditions.\n",
        "9. **Access to Data**: Alternative when real data isn't available.\n",
        "\n",
        "**Note: Despite the benefits, synthetic data should be used carefully, as it may not always capture real-world complexities.**"
      ]
    },
    {
      "cell_type": "markdown",
      "source": [
        "## Quickstart\n",
        "\n",
        "In this notebook, we'll dive deep into generating synthetic medical billing records using the langchain library. This tool is particularly useful when you want to develop or test algorithms but don't want to use real patient data due to privacy concerns or data availability issues."
      ],
      "metadata": {
        "id": "EQ1qYxSgbDMt"
      },
      "id": "EQ1qYxSgbDMt"
    },
    {
      "cell_type": "markdown",
      "id": "bca57012",
      "metadata": {
        "id": "bca57012"
      },
      "source": [
        "## Setup\n",
        "- First, you'll need to have the langchain library installed, along with its dependencies. Since we're using the OpenAI generator chain, we'll install that as well. Since this is an experimental lib, we'll need to include `langchain_experimental` in our installs.\n",
        "- [Pydantic](https://docs.pydantic.dev/latest/): Data validation library for Python"
      ]
    },
    {
      "cell_type": "code",
      "execution_count": 1,
      "id": "a0377478",
      "metadata": {
        "id": "a0377478"
      },
      "outputs": [],
      "source": [
        "%%capture\n",
        "!pip install -U langchain langchain_experimental openai"
      ]
    },
    {
      "cell_type": "code",
      "source": [
        "# set environment variables\n",
        "# https://platform.openai.com/account/api-keys\n",
        "import os\n",
        "os.environ[\"OPENAI_API_KEY\"] = OPENAI_API_KEY"
      ],
      "metadata": {
        "id": "7bDU3j-Zb0Jf"
      },
      "id": "7bDU3j-Zb0Jf",
      "execution_count": 2,
      "outputs": []
    },
    {
      "cell_type": "code",
      "source": [
        "from langchain.prompts import FewShotPromptTemplate, PromptTemplate\n",
        "from langchain.chat_models import ChatOpenAI\n",
        "from langchain.pydantic_v1 import BaseModel\n",
        "from langchain_experimental.tabular_synthetic_data.base import SyntheticDataGenerator\n",
        "from langchain_experimental.tabular_synthetic_data.openai import create_openai_data_generator, OPENAI_TEMPLATE\n",
        "from langchain_experimental.tabular_synthetic_data.prompts import SYNTHETIC_FEW_SHOT_SUFFIX, SYNTHETIC_FEW_SHOT_PREFIX"
      ],
      "metadata": {
        "id": "e3kkn3SlbzBF"
      },
      "id": "e3kkn3SlbzBF",
      "execution_count": 3,
      "outputs": []
    },
    {
      "cell_type": "markdown",
      "id": "a5a0917b",
      "metadata": {
        "id": "a5a0917b"
      },
      "source": [
        "## 1. Define Your Data Model\n",
        "- Every dataset has a structure or a \"schema\".\n",
        "- The MedicalBilling class below serves as our schema for the synthetic data.\n",
        "- By defining this, we're informing our synthetic data generator about the shape and nature of data we expect."
      ]
    },
    {
      "cell_type": "code",
      "source": [
        "from datetime import date  # Assuming date format is appropriate\n",
        "\n",
        "class InventoryData(BaseModel):\n",
        "    SF_CAMPAIGN_ID: str\n",
        "    JOB_ID: int\n",
        "    TOTAL_LEADS_REQUESTED: int\n",
        "    REQUESTED_DATE: date\n",
        "    CAMPAIGN_START_DATE: date\n",
        "    CAMPAIGN_END_DATE: date\n",
        "    TOTAL_LEADS_AVAILABLE: int\n",
        "    TOTAL_LEADS_TO_BE_PROCURED: int\n",
        "    CAMPAIGN_STATUS: str\n",
        "    ROLE: str\n",
        "    TITLE: str\n",
        "    INDUSTRY: str\n",
        "    EMPLOYEE_RANGE: str\n",
        "    REVENUE_RANGE: str\n",
        "    STATE: str\n",
        "    COUNTRY: str\n",
        "    ZIP_CODE: str\n"
      ],
      "metadata": {
        "id": "OvdTGT9hlOsL"
      },
      "id": "OvdTGT9hlOsL",
      "execution_count": 8,
      "outputs": []
    },
    {
      "cell_type": "markdown",
      "id": "2059ca63",
      "metadata": {
        "id": "2059ca63"
      },
      "source": [
        "## 2. Sample Data\n",
        "To guide the synthetic data generator, it's useful to provide it with a few real-world-like examples. These examples serve as a \"seed\" - they're representative of the kind of data you want, and the generator will use them to create more data that looks similar.\n",
        "\n",
        "Here are some fictional medical billing records:"
      ]
    },
    {
      "cell_type": "code",
      "source": [
        "examples = [\n",
        "    {\"example\": \"\"\"SF_CAMPAIGN_ID: ABC-45321, JOB_ID: 348392, TOTAL_LEADS_REQUESTED:7000,\n",
        "     REQUESTED_DATE: 2020-01-24, CAMPAIGN_START_DATE: 2020-02-04, CAMPAIGN_END_DATE: 2021-01-25,\n",
        "     TOTAL_LEADS_AVAILABLE: 5000, TOTAL_LEADS_TO_BE_PROCURED: 2000, CAMPAIGN_STATUS: Completed,\n",
        "     ROLE: Individual Contributor, TITLE: Senior Director of Sales, INDUSTRY: Technology,\n",
        "     EMPLOYEE_RANGE: 501-1000, REVENUE_RANGE: $10M - $50M, STATE: CA , COUNTRY: US, ZIP_CODE: 732823\n",
        "     \"\"\"},\n",
        "    {\"example\": \"\"\"SF_CAMPAIGN_ID: BCD-48393, JOB_ID: 833982, TOTAL_LEADS_REQUESTED: 2000,\n",
        "     REQUESTED_DATE: 2021-03-07, CAMPAIGN_START_DATE: 2021-03-27, CAMPAIGN_END_DATE: 2021-06-07,\n",
        "     TOTAL_LEADS_AVAILABLE: 2000, TOTAL_LEADS_TO_BE_PROCURED: 0, CAMPAIGN_STATUS: Completed,\n",
        "     ROLE: Vice President, TITLE: SVP of Sales Operations, INDUSTRY: Chemical,\n",
        "     EMPLOYEE_RANGE: 5001-10001, REVENUE_RANGE: $100M-$1B, STATE: NY , COUNTRY: US, ZIP_CODE: 273472\n",
        "     \"\"\"},\n",
        "    {\"example\": \"\"\"SF_CAMPAIGN_ID: HPE-788277, JOB_ID: 727628, TOTAL_LEADS_REQUESTED: 5550,\n",
        "     REQUESTED_DATE: 2024-01-22, CAMPAIGN_START_DATE: 2024-01-26, CAMPAIGN_END_DATE: 2024-02-22,\n",
        "     TOTAL_LEADS_AVAILABLE: 550, TOTAL_LEADS_TO_BE_PROCURED: 5000, CAMPAIGN_STATUS: Live,\n",
        "     ROLE: Chief Executive, TITLE: Director of Information Technology Application , INDUSTRY: IT Services,\n",
        "     EMPLOYEE_RANGE: 10001-100000, REVENUE_RANGE: $501M - $100M, STATE: WA , COUNTRY: Canada, ZIP_CODE: 373732\n",
        "     \"\"\"},\n",
        "]"
      ],
      "metadata": {
        "id": "vrRxfvUSlUiT"
      },
      "id": "vrRxfvUSlUiT",
      "execution_count": 9,
      "outputs": []
    },
    {
      "cell_type": "markdown",
      "id": "57e28809",
      "metadata": {
        "id": "57e28809"
      },
      "source": [
        "## 3. Craft a Prompt Template\n",
        "The generator doesn't magically know how to create our data; we need to guide it. We do this by creating a prompt template. This template helps instruct the underlying language model on how to produce synthetic data in the desired format."
      ]
    },
    {
      "cell_type": "code",
      "execution_count": 12,
      "id": "ea6e042e",
      "metadata": {
        "id": "ea6e042e"
      },
      "outputs": [],
      "source": [
        "OPENAI_TEMPLATE = PromptTemplate(input_variables=[\"example\"], template=\"{example}\")\n",
        "\n",
        "prompt_template = FewShotPromptTemplate(\n",
        "    prefix=SYNTHETIC_FEW_SHOT_PREFIX,\n",
        "    examples=examples,\n",
        "    suffix=SYNTHETIC_FEW_SHOT_SUFFIX,\n",
        "    input_variables=[\"subject\", \"extra\"],\n",
        "    example_prompt=OPENAI_TEMPLATE,\n",
        ")"
      ]
    },
    {
      "cell_type": "code",
      "source": [
        "SYNTHETIC_FEW_SHOT_PREFIX"
      ],
      "metadata": {
        "id": "EWSNqycGldHa",
        "outputId": "3432b7e2-ebac-44ec-92ef-687e5d9e688b",
        "colab": {
          "base_uri": "https://localhost:8080/",
          "height": 35
        }
      },
      "id": "EWSNqycGldHa",
      "execution_count": 10,
      "outputs": [
        {
          "output_type": "execute_result",
          "data": {
            "text/plain": [
              "'This is a test about generating synthetic data about {subject}. Examples below:'"
            ],
            "application/vnd.google.colaboratory.intrinsic+json": {
              "type": "string"
            }
          },
          "metadata": {},
          "execution_count": 10
        }
      ]
    },
    {
      "cell_type": "code",
      "source": [
        "SYNTHETIC_FEW_SHOT_SUFFIX"
      ],
      "metadata": {
        "id": "Sv-xDl6Ilgc-",
        "outputId": "c61920e9-ca8e-4539-ba87-36d15565dbbf",
        "colab": {
          "base_uri": "https://localhost:8080/",
          "height": 35
        }
      },
      "id": "Sv-xDl6Ilgc-",
      "execution_count": 11,
      "outputs": [
        {
          "output_type": "execute_result",
          "data": {
            "text/plain": [
              "'Now you generate synthetic data about {subject}. Make sure to {extra}:'"
            ],
            "application/vnd.google.colaboratory.intrinsic+json": {
              "type": "string"
            }
          },
          "metadata": {},
          "execution_count": 11
        }
      ]
    },
    {
      "cell_type": "markdown",
      "id": "fa6da3cb",
      "metadata": {
        "id": "fa6da3cb"
      },
      "source": [
        "The `FewShotPromptTemplate` includes:\n",
        "\n",
        "- `prefix` and `suffix`: These likely contain guiding context or instructions.\n",
        "- `examples`: The sample data we defined earlier.\n",
        "- `input_variables`: These variables (\"subject\", \"extra\") are placeholders you can dynamically fill later. For instance, \"subject\" might be filled with \"medical_billing\" to guide the model further.\n",
        "- `example_prompt`: This prompt template is the format we want each example row to take in our prompt."
      ]
    },
    {
      "cell_type": "markdown",
      "source": [
        "## 4. Creating the Data Generator\n",
        "With the schema and the prompt ready, the next step is to create the data generator. This object knows how to communicate with the underlying language model to get synthetic data."
      ],
      "metadata": {
        "id": "pI5oGS-fchEi"
      },
      "id": "pI5oGS-fchEi"
    },
    {
      "cell_type": "code",
      "source": [
        "synthetic_data_generator = create_openai_data_generator(\n",
        "    output_schema=InventoryData,\n",
        "    llm=ChatOpenAI(temperature=1),\n",
        "    prompt=prompt_template,\n",
        ")"
      ],
      "metadata": {
        "id": "6mJDb-8PlpVl"
      },
      "id": "6mJDb-8PlpVl",
      "execution_count": 13,
      "outputs": []
    },
    {
      "cell_type": "markdown",
      "id": "a4198bd6",
      "metadata": {
        "id": "a4198bd6"
      },
      "source": [
        "## 5. Generate Synthetic Data\n",
        "Finally, let's get our synthetic data!"
      ]
    },
    {
      "cell_type": "code",
      "source": [
        "synthetic_results = synthetic_data_generator.generate(\n",
        "    subject=\"InventoryData\",\n",
        "    extra=\"the campaign id, job id, total leads , requested date, start date, end date, leads available, leads procured, role, title, industry, employee range, revenue range must be chosen at random. Make it something you wouldn't normally choose.\",\n",
        "    runs=10,\n",
        ")"
      ],
      "metadata": {
        "id": "8zaeGGVmlt_v"
      },
      "id": "8zaeGGVmlt_v",
      "execution_count": 15,
      "outputs": []
    },
    {
      "cell_type": "markdown",
      "id": "fa4402e9",
      "metadata": {
        "id": "fa4402e9"
      },
      "source": [
        "This command asks the generator to produce 10 synthetic medical billing records. The results are stored in `synthetic_results`. The output will be a list of the MedicalBilling pydantic models."
      ]
    },
    {
      "cell_type": "code",
      "source": [
        "type(synthetic_results)"
      ],
      "metadata": {
        "colab": {
          "base_uri": "https://localhost:8080/"
        },
        "id": "8lIQ7XaJeIsv",
        "outputId": "f787f3e5-9d18-4e86-8e57-dbf57c5c3faa"
      },
      "id": "8lIQ7XaJeIsv",
      "execution_count": 16,
      "outputs": [
        {
          "output_type": "execute_result",
          "data": {
            "text/plain": [
              "list"
            ]
          },
          "metadata": {},
          "execution_count": 16
        }
      ]
    },
    {
      "cell_type": "markdown",
      "source": [
        "## 6. Visualize the Generated Synthetic Data"
      ],
      "metadata": {
        "id": "NV99vyuGc_us"
      },
      "id": "NV99vyuGc_us"
    },
    {
      "cell_type": "code",
      "execution_count": 17,
      "id": "0b03de4d",
      "metadata": {
        "id": "0b03de4d",
        "colab": {
          "base_uri": "https://localhost:8080/"
        },
        "outputId": "b50fb78a-684b-478b-a386-d896f81d70c4"
      },
      "outputs": [
        {
          "output_type": "execute_result",
          "data": {
            "text/plain": [
              "10"
            ]
          },
          "metadata": {},
          "execution_count": 17
        }
      ],
      "source": [
        "len(synthetic_results)"
      ]
    },
    {
      "cell_type": "code",
      "source": [
        "synthetic_results"
      ],
      "metadata": {
        "colab": {
          "base_uri": "https://localhost:8080/"
        },
        "id": "U4xA8dAAc-DY",
        "outputId": "53aed514-3c2d-4aa9-fd86-ea3e188b2c4e"
      },
      "id": "U4xA8dAAc-DY",
      "execution_count": 18,
      "outputs": [
        {
          "output_type": "execute_result",
          "data": {
            "text/plain": [
              "[InventoryData(SF_CAMPAIGN_ID='XYZ-12456', JOB_ID=987654, TOTAL_LEADS_REQUESTED=8500, REQUESTED_DATE=datetime.date(2023, 8, 17), CAMPAIGN_START_DATE=datetime.date(2023, 9, 2), CAMPAIGN_END_DATE=datetime.date(2024, 2, 15), TOTAL_LEADS_AVAILABLE=4500, TOTAL_LEADS_TO_BE_PROCURED=4000, CAMPAIGN_STATUS='In Progress', ROLE='Team Lead', TITLE='Marketing Specialist', INDUSTRY='Manufacturing', EMPLOYEE_RANGE='500-1000', REVENUE_RANGE='$1M - $10M', STATE='TX', COUNTRY='Mexico', ZIP_CODE='846388'),\n",
              " InventoryData(SF_CAMPAIGN_ID='XYZ-76392', JOB_ID=546872, TOTAL_LEADS_REQUESTED=4100, REQUESTED_DATE=datetime.date(2022, 11, 15), CAMPAIGN_START_DATE=datetime.date(2023, 1, 9), CAMPAIGN_END_DATE=datetime.date(2023, 5, 22), TOTAL_LEADS_AVAILABLE=2300, TOTAL_LEADS_TO_BE_PROCURED=1800, CAMPAIGN_STATUS='Ongoing', ROLE='Operations Manager', TITLE='Product Development Specialist', INDUSTRY='Fashion', EMPLOYEE_RANGE='1001-5000', REVENUE_RANGE='$50M-$100M', STATE='FL', COUNTRY='Australia', ZIP_CODE='536347'),\n",
              " InventoryData(SF_CAMPAIGN_ID='ABC-98765', JOB_ID=123456, TOTAL_LEADS_REQUESTED=7200, REQUESTED_DATE=datetime.date(2023, 5, 11), CAMPAIGN_START_DATE=datetime.date(2023, 6, 1), CAMPAIGN_END_DATE=datetime.date(2023, 11, 30), TOTAL_LEADS_AVAILABLE=4000, TOTAL_LEADS_TO_BE_PROCURED=3200, CAMPAIGN_STATUS='Pending', ROLE='Marketing Analyst', TITLE='Supply Chain Coordinator', INDUSTRY='Food & Beverage', EMPLOYEE_RANGE='5000-10000', REVENUE_RANGE='$100M - $500M', STATE='NY', COUNTRY='Germany', ZIP_CODE='728463'),\n",
              " InventoryData(SF_CAMPAIGN_ID='ABC-54321', JOB_ID=876543, TOTAL_LEADS_REQUESTED=6300, REQUESTED_DATE=datetime.date(2023, 10, 27), CAMPAIGN_START_DATE=datetime.date(2024, 1, 15), CAMPAIGN_END_DATE=datetime.date(2024, 7, 9), TOTAL_LEADS_AVAILABLE=3600, TOTAL_LEADS_TO_BE_PROCURED=2700, CAMPAIGN_STATUS='On Hold', ROLE='Data Scientist', TITLE='Logistics Coordinator', INDUSTRY='Technology', EMPLOYEE_RANGE='100-500', REVENUE_RANGE='$10M - $50M', STATE='CA', COUNTRY='Japan', ZIP_CODE='634872'),\n",
              " InventoryData(SF_CAMPAIGN_ID='MNO-34567', JOB_ID=987654, TOTAL_LEADS_REQUESTED=5600, REQUESTED_DATE=datetime.date(2023, 8, 20), CAMPAIGN_START_DATE=datetime.date(2024, 3, 14), CAMPAIGN_END_DATE=datetime.date(2024, 9, 27), TOTAL_LEADS_AVAILABLE=3200, TOTAL_LEADS_TO_BE_PROCURED=2400, CAMPAIGN_STATUS='Completed', ROLE='Customer Success Manager', TITLE='Operations Coordinator', INDUSTRY='Healthcare', EMPLOYEE_RANGE='501-1000', REVENUE_RANGE='$20M - $50M', STATE='TX', COUNTRY='South Africa', ZIP_CODE='873624'),\n",
              " InventoryData(SF_CAMPAIGN_ID='XYZ-24680', JOB_ID=987654, TOTAL_LEADS_REQUESTED=8200, REQUESTED_DATE=datetime.date(2023, 9, 15), CAMPAIGN_START_DATE=datetime.date(2024, 4, 10), CAMPAIGN_END_DATE=datetime.date(2024, 10, 25), TOTAL_LEADS_AVAILABLE=5000, TOTAL_LEADS_TO_BE_PROCURED=3200, CAMPAIGN_STATUS='In Progress', ROLE='Sales Coordinator', TITLE='Marketing Manager', INDUSTRY='Energy', EMPLOYEE_RANGE='1000-5000', REVENUE_RANGE='$50M - $100M', STATE='FL', COUNTRY='Canada', ZIP_CODE='349258'),\n",
              " InventoryData(SF_CAMPAIGN_ID='RST-12345', JOB_ID=654321, TOTAL_LEADS_REQUESTED=7400, REQUESTED_DATE=datetime.date(2022, 11, 30), CAMPAIGN_START_DATE=datetime.date(2023, 6, 15), CAMPAIGN_END_DATE=datetime.date(2023, 12, 9), TOTAL_LEADS_AVAILABLE=4200, TOTAL_LEADS_TO_BE_PROCURED=3200, CAMPAIGN_STATUS='Pending Approval', ROLE='Marketing Specialist', TITLE='Supply Chain Analyst', INDUSTRY='Finance', EMPLOYEE_RANGE='500-1000', REVENUE_RANGE='$30M - $70M', STATE='NY', COUNTRY='Germany', ZIP_CODE='456782'),\n",
              " InventoryData(SF_CAMPAIGN_ID='ABC-54321', JOB_ID=123456, TOTAL_LEADS_REQUESTED=9800, REQUESTED_DATE=datetime.date(2023, 6, 8), CAMPAIGN_START_DATE=datetime.date(2024, 1, 20), CAMPAIGN_END_DATE=datetime.date(2024, 7, 12), TOTAL_LEADS_AVAILABLE=6000, TOTAL_LEADS_TO_BE_PROCURED=3800, CAMPAIGN_STATUS='Under Review', ROLE='Business Development Director', TITLE='Data Analyst', INDUSTRY='Technology', EMPLOYEE_RANGE='1000-5000', REVENUE_RANGE='$100M - $500M', STATE='CA', COUNTRY='Japan', ZIP_CODE='782943'),\n",
              " InventoryData(SF_CAMPAIGN_ID='LMN-24680', JOB_ID=123456, TOTAL_LEADS_REQUESTED=7200, REQUESTED_DATE=datetime.date(2024, 8, 22), CAMPAIGN_START_DATE=datetime.date(2025, 2, 17), CAMPAIGN_END_DATE=datetime.date(2025, 9, 30), TOTAL_LEADS_AVAILABLE=4800, TOTAL_LEADS_TO_BE_PROCURED=2400, CAMPAIGN_STATUS='Pending Review', ROLE='Operations Manager', TITLE='Customer Success Specialist', INDUSTRY='Healthcare', EMPLOYEE_RANGE='500-1000', REVENUE_RANGE='$20M - $50M', STATE='TX', COUNTRY='Australia', ZIP_CODE='543216'),\n",
              " InventoryData(SF_CAMPAIGN_ID='XYZ-98765', JOB_ID=789012, TOTAL_LEADS_REQUESTED=5600, REQUESTED_DATE=datetime.date(2023, 9, 14), CAMPAIGN_START_DATE=datetime.date(2024, 4, 30), CAMPAIGN_END_DATE=datetime.date(2024, 10, 15), TOTAL_LEADS_AVAILABLE=3200, TOTAL_LEADS_TO_BE_PROCURED=2400, CAMPAIGN_STATUS='Awaiting Feedback', ROLE='Human Resources Coordinator', TITLE='Procurement Specialist', INDUSTRY='Manufacturing', EMPLOYEE_RANGE='100-500', REVENUE_RANGE='$10M - $30M', STATE='FL', COUNTRY='Brazil', ZIP_CODE='678912')]"
            ]
          },
          "metadata": {},
          "execution_count": 18
        }
      ]
    },
    {
      "cell_type": "markdown",
      "source": [
        "## 7. Converting the synthetic data into Pandas Dataframe"
      ],
      "metadata": {
        "id": "XJ3vfh9UfyLS"
      },
      "id": "XJ3vfh9UfyLS"
    },
    {
      "cell_type": "code",
      "source": [
        "import pandas as pd\n",
        "\n",
        "# Create a list of dictionaries from the objects\n",
        "synthetic_data = []\n",
        "for item in synthetic_results:\n",
        "    synthetic_data.append({\n",
        "         'SF_CAMPAIGN_ID': item.SF_CAMPAIGN_ID,\n",
        "         'JOB_ID': item.JOB_ID,\n",
        "         'TOTAL_LEADS_REQUESTED': item.TOTAL_LEADS_REQUESTED,\n",
        "         'REQUESTED_DATE': item.REQUESTED_DATE,\n",
        "         'CAMPAIGN_START_DATE': item.CAMPAIGN_START_DATE,\n",
        "         'CAMPAIGN_END_DATE': item.CAMPAIGN_END_DATE,\n",
        "         'TOTAL_LEADS_AVAILABLE': item.TOTAL_LEADS_AVAILABLE,\n",
        "         'TOTAL_LEADS_TO_BE_PROCURED': item.TOTAL_LEADS_TO_BE_PROCURED,\n",
        "         'CAMPAIGN_STATUS': item.CAMPAIGN_STATUS,\n",
        "         'ROLE': item.ROLE,\n",
        "         'TITLE': item.TITLE,\n",
        "         'INDUSTRY': item.INDUSTRY,\n",
        "         'EMPLOYEE_RANGE': item.EMPLOYEE_RANGE,\n",
        "         'REVENUE_RANGE': item.REVENUE_RANGE,\n",
        "         'STATE': item.STATE,\n",
        "         'COUNTRY': item.COUNTRY,\n",
        "         'ZIP_CODE': item.ZIP_CODE\n",
        "    })\n",
        "\n",
        "# Create a Pandas DataFrame from the list of dictionaries\n",
        "synthetic_df = pd.DataFrame(synthetic_data)\n",
        "\n",
        "# Display the DataFrame\n",
        "print(type(synthetic_df))\n",
        "synthetic_df"
      ],
      "metadata": {
        "id": "T9tViI-kmoUy",
        "outputId": "13b2c32f-5b6d-4dfe-ac74-a623aaee6959",
        "colab": {
          "base_uri": "https://localhost:8080/",
          "height": 696
        }
      },
      "id": "T9tViI-kmoUy",
      "execution_count": 19,
      "outputs": [
        {
          "output_type": "stream",
          "name": "stdout",
          "text": [
            "<class 'pandas.core.frame.DataFrame'>\n"
          ]
        },
        {
          "output_type": "execute_result",
          "data": {
            "text/plain": [
              "  SF_CAMPAIGN_ID  JOB_ID  TOTAL_LEADS_REQUESTED REQUESTED_DATE  \\\n",
              "0      XYZ-12456  987654                   8500     2023-08-17   \n",
              "1      XYZ-76392  546872                   4100     2022-11-15   \n",
              "2      ABC-98765  123456                   7200     2023-05-11   \n",
              "3      ABC-54321  876543                   6300     2023-10-27   \n",
              "4      MNO-34567  987654                   5600     2023-08-20   \n",
              "5      XYZ-24680  987654                   8200     2023-09-15   \n",
              "6      RST-12345  654321                   7400     2022-11-30   \n",
              "7      ABC-54321  123456                   9800     2023-06-08   \n",
              "8      LMN-24680  123456                   7200     2024-08-22   \n",
              "9      XYZ-98765  789012                   5600     2023-09-14   \n",
              "\n",
              "  CAMPAIGN_START_DATE CAMPAIGN_END_DATE  TOTAL_LEADS_AVAILABLE  \\\n",
              "0          2023-09-02        2024-02-15                   4500   \n",
              "1          2023-01-09        2023-05-22                   2300   \n",
              "2          2023-06-01        2023-11-30                   4000   \n",
              "3          2024-01-15        2024-07-09                   3600   \n",
              "4          2024-03-14        2024-09-27                   3200   \n",
              "5          2024-04-10        2024-10-25                   5000   \n",
              "6          2023-06-15        2023-12-09                   4200   \n",
              "7          2024-01-20        2024-07-12                   6000   \n",
              "8          2025-02-17        2025-09-30                   4800   \n",
              "9          2024-04-30        2024-10-15                   3200   \n",
              "\n",
              "   TOTAL_LEADS_TO_BE_PROCURED    CAMPAIGN_STATUS  \\\n",
              "0                        4000        In Progress   \n",
              "1                        1800            Ongoing   \n",
              "2                        3200            Pending   \n",
              "3                        2700            On Hold   \n",
              "4                        2400          Completed   \n",
              "5                        3200        In Progress   \n",
              "6                        3200   Pending Approval   \n",
              "7                        3800       Under Review   \n",
              "8                        2400     Pending Review   \n",
              "9                        2400  Awaiting Feedback   \n",
              "\n",
              "                            ROLE                           TITLE  \\\n",
              "0                      Team Lead            Marketing Specialist   \n",
              "1             Operations Manager  Product Development Specialist   \n",
              "2              Marketing Analyst        Supply Chain Coordinator   \n",
              "3                 Data Scientist           Logistics Coordinator   \n",
              "4       Customer Success Manager          Operations Coordinator   \n",
              "5              Sales Coordinator               Marketing Manager   \n",
              "6           Marketing Specialist            Supply Chain Analyst   \n",
              "7  Business Development Director                    Data Analyst   \n",
              "8             Operations Manager     Customer Success Specialist   \n",
              "9    Human Resources Coordinator          Procurement Specialist   \n",
              "\n",
              "          INDUSTRY EMPLOYEE_RANGE  REVENUE_RANGE STATE       COUNTRY ZIP_CODE  \n",
              "0    Manufacturing       500-1000     $1M - $10M    TX        Mexico   846388  \n",
              "1          Fashion      1001-5000     $50M-$100M    FL     Australia   536347  \n",
              "2  Food & Beverage     5000-10000  $100M - $500M    NY       Germany   728463  \n",
              "3       Technology        100-500    $10M - $50M    CA         Japan   634872  \n",
              "4       Healthcare       501-1000    $20M - $50M    TX  South Africa   873624  \n",
              "5           Energy      1000-5000   $50M - $100M    FL        Canada   349258  \n",
              "6          Finance       500-1000    $30M - $70M    NY       Germany   456782  \n",
              "7       Technology      1000-5000  $100M - $500M    CA         Japan   782943  \n",
              "8       Healthcare       500-1000    $20M - $50M    TX     Australia   543216  \n",
              "9    Manufacturing        100-500    $10M - $30M    FL        Brazil   678912  "
            ],
            "text/html": [
              "\n",
              "  <div id=\"df-2de1128a-ba77-4720-a9ba-917e1b3d2d95\" class=\"colab-df-container\">\n",
              "    <div>\n",
              "<style scoped>\n",
              "    .dataframe tbody tr th:only-of-type {\n",
              "        vertical-align: middle;\n",
              "    }\n",
              "\n",
              "    .dataframe tbody tr th {\n",
              "        vertical-align: top;\n",
              "    }\n",
              "\n",
              "    .dataframe thead th {\n",
              "        text-align: right;\n",
              "    }\n",
              "</style>\n",
              "<table border=\"1\" class=\"dataframe\">\n",
              "  <thead>\n",
              "    <tr style=\"text-align: right;\">\n",
              "      <th></th>\n",
              "      <th>SF_CAMPAIGN_ID</th>\n",
              "      <th>JOB_ID</th>\n",
              "      <th>TOTAL_LEADS_REQUESTED</th>\n",
              "      <th>REQUESTED_DATE</th>\n",
              "      <th>CAMPAIGN_START_DATE</th>\n",
              "      <th>CAMPAIGN_END_DATE</th>\n",
              "      <th>TOTAL_LEADS_AVAILABLE</th>\n",
              "      <th>TOTAL_LEADS_TO_BE_PROCURED</th>\n",
              "      <th>CAMPAIGN_STATUS</th>\n",
              "      <th>ROLE</th>\n",
              "      <th>TITLE</th>\n",
              "      <th>INDUSTRY</th>\n",
              "      <th>EMPLOYEE_RANGE</th>\n",
              "      <th>REVENUE_RANGE</th>\n",
              "      <th>STATE</th>\n",
              "      <th>COUNTRY</th>\n",
              "      <th>ZIP_CODE</th>\n",
              "    </tr>\n",
              "  </thead>\n",
              "  <tbody>\n",
              "    <tr>\n",
              "      <th>0</th>\n",
              "      <td>XYZ-12456</td>\n",
              "      <td>987654</td>\n",
              "      <td>8500</td>\n",
              "      <td>2023-08-17</td>\n",
              "      <td>2023-09-02</td>\n",
              "      <td>2024-02-15</td>\n",
              "      <td>4500</td>\n",
              "      <td>4000</td>\n",
              "      <td>In Progress</td>\n",
              "      <td>Team Lead</td>\n",
              "      <td>Marketing Specialist</td>\n",
              "      <td>Manufacturing</td>\n",
              "      <td>500-1000</td>\n",
              "      <td>$1M - $10M</td>\n",
              "      <td>TX</td>\n",
              "      <td>Mexico</td>\n",
              "      <td>846388</td>\n",
              "    </tr>\n",
              "    <tr>\n",
              "      <th>1</th>\n",
              "      <td>XYZ-76392</td>\n",
              "      <td>546872</td>\n",
              "      <td>4100</td>\n",
              "      <td>2022-11-15</td>\n",
              "      <td>2023-01-09</td>\n",
              "      <td>2023-05-22</td>\n",
              "      <td>2300</td>\n",
              "      <td>1800</td>\n",
              "      <td>Ongoing</td>\n",
              "      <td>Operations Manager</td>\n",
              "      <td>Product Development Specialist</td>\n",
              "      <td>Fashion</td>\n",
              "      <td>1001-5000</td>\n",
              "      <td>$50M-$100M</td>\n",
              "      <td>FL</td>\n",
              "      <td>Australia</td>\n",
              "      <td>536347</td>\n",
              "    </tr>\n",
              "    <tr>\n",
              "      <th>2</th>\n",
              "      <td>ABC-98765</td>\n",
              "      <td>123456</td>\n",
              "      <td>7200</td>\n",
              "      <td>2023-05-11</td>\n",
              "      <td>2023-06-01</td>\n",
              "      <td>2023-11-30</td>\n",
              "      <td>4000</td>\n",
              "      <td>3200</td>\n",
              "      <td>Pending</td>\n",
              "      <td>Marketing Analyst</td>\n",
              "      <td>Supply Chain Coordinator</td>\n",
              "      <td>Food &amp; Beverage</td>\n",
              "      <td>5000-10000</td>\n",
              "      <td>$100M - $500M</td>\n",
              "      <td>NY</td>\n",
              "      <td>Germany</td>\n",
              "      <td>728463</td>\n",
              "    </tr>\n",
              "    <tr>\n",
              "      <th>3</th>\n",
              "      <td>ABC-54321</td>\n",
              "      <td>876543</td>\n",
              "      <td>6300</td>\n",
              "      <td>2023-10-27</td>\n",
              "      <td>2024-01-15</td>\n",
              "      <td>2024-07-09</td>\n",
              "      <td>3600</td>\n",
              "      <td>2700</td>\n",
              "      <td>On Hold</td>\n",
              "      <td>Data Scientist</td>\n",
              "      <td>Logistics Coordinator</td>\n",
              "      <td>Technology</td>\n",
              "      <td>100-500</td>\n",
              "      <td>$10M - $50M</td>\n",
              "      <td>CA</td>\n",
              "      <td>Japan</td>\n",
              "      <td>634872</td>\n",
              "    </tr>\n",
              "    <tr>\n",
              "      <th>4</th>\n",
              "      <td>MNO-34567</td>\n",
              "      <td>987654</td>\n",
              "      <td>5600</td>\n",
              "      <td>2023-08-20</td>\n",
              "      <td>2024-03-14</td>\n",
              "      <td>2024-09-27</td>\n",
              "      <td>3200</td>\n",
              "      <td>2400</td>\n",
              "      <td>Completed</td>\n",
              "      <td>Customer Success Manager</td>\n",
              "      <td>Operations Coordinator</td>\n",
              "      <td>Healthcare</td>\n",
              "      <td>501-1000</td>\n",
              "      <td>$20M - $50M</td>\n",
              "      <td>TX</td>\n",
              "      <td>South Africa</td>\n",
              "      <td>873624</td>\n",
              "    </tr>\n",
              "    <tr>\n",
              "      <th>5</th>\n",
              "      <td>XYZ-24680</td>\n",
              "      <td>987654</td>\n",
              "      <td>8200</td>\n",
              "      <td>2023-09-15</td>\n",
              "      <td>2024-04-10</td>\n",
              "      <td>2024-10-25</td>\n",
              "      <td>5000</td>\n",
              "      <td>3200</td>\n",
              "      <td>In Progress</td>\n",
              "      <td>Sales Coordinator</td>\n",
              "      <td>Marketing Manager</td>\n",
              "      <td>Energy</td>\n",
              "      <td>1000-5000</td>\n",
              "      <td>$50M - $100M</td>\n",
              "      <td>FL</td>\n",
              "      <td>Canada</td>\n",
              "      <td>349258</td>\n",
              "    </tr>\n",
              "    <tr>\n",
              "      <th>6</th>\n",
              "      <td>RST-12345</td>\n",
              "      <td>654321</td>\n",
              "      <td>7400</td>\n",
              "      <td>2022-11-30</td>\n",
              "      <td>2023-06-15</td>\n",
              "      <td>2023-12-09</td>\n",
              "      <td>4200</td>\n",
              "      <td>3200</td>\n",
              "      <td>Pending Approval</td>\n",
              "      <td>Marketing Specialist</td>\n",
              "      <td>Supply Chain Analyst</td>\n",
              "      <td>Finance</td>\n",
              "      <td>500-1000</td>\n",
              "      <td>$30M - $70M</td>\n",
              "      <td>NY</td>\n",
              "      <td>Germany</td>\n",
              "      <td>456782</td>\n",
              "    </tr>\n",
              "    <tr>\n",
              "      <th>7</th>\n",
              "      <td>ABC-54321</td>\n",
              "      <td>123456</td>\n",
              "      <td>9800</td>\n",
              "      <td>2023-06-08</td>\n",
              "      <td>2024-01-20</td>\n",
              "      <td>2024-07-12</td>\n",
              "      <td>6000</td>\n",
              "      <td>3800</td>\n",
              "      <td>Under Review</td>\n",
              "      <td>Business Development Director</td>\n",
              "      <td>Data Analyst</td>\n",
              "      <td>Technology</td>\n",
              "      <td>1000-5000</td>\n",
              "      <td>$100M - $500M</td>\n",
              "      <td>CA</td>\n",
              "      <td>Japan</td>\n",
              "      <td>782943</td>\n",
              "    </tr>\n",
              "    <tr>\n",
              "      <th>8</th>\n",
              "      <td>LMN-24680</td>\n",
              "      <td>123456</td>\n",
              "      <td>7200</td>\n",
              "      <td>2024-08-22</td>\n",
              "      <td>2025-02-17</td>\n",
              "      <td>2025-09-30</td>\n",
              "      <td>4800</td>\n",
              "      <td>2400</td>\n",
              "      <td>Pending Review</td>\n",
              "      <td>Operations Manager</td>\n",
              "      <td>Customer Success Specialist</td>\n",
              "      <td>Healthcare</td>\n",
              "      <td>500-1000</td>\n",
              "      <td>$20M - $50M</td>\n",
              "      <td>TX</td>\n",
              "      <td>Australia</td>\n",
              "      <td>543216</td>\n",
              "    </tr>\n",
              "    <tr>\n",
              "      <th>9</th>\n",
              "      <td>XYZ-98765</td>\n",
              "      <td>789012</td>\n",
              "      <td>5600</td>\n",
              "      <td>2023-09-14</td>\n",
              "      <td>2024-04-30</td>\n",
              "      <td>2024-10-15</td>\n",
              "      <td>3200</td>\n",
              "      <td>2400</td>\n",
              "      <td>Awaiting Feedback</td>\n",
              "      <td>Human Resources Coordinator</td>\n",
              "      <td>Procurement Specialist</td>\n",
              "      <td>Manufacturing</td>\n",
              "      <td>100-500</td>\n",
              "      <td>$10M - $30M</td>\n",
              "      <td>FL</td>\n",
              "      <td>Brazil</td>\n",
              "      <td>678912</td>\n",
              "    </tr>\n",
              "  </tbody>\n",
              "</table>\n",
              "</div>\n",
              "    <div class=\"colab-df-buttons\">\n",
              "\n",
              "  <div class=\"colab-df-container\">\n",
              "    <button class=\"colab-df-convert\" onclick=\"convertToInteractive('df-2de1128a-ba77-4720-a9ba-917e1b3d2d95')\"\n",
              "            title=\"Convert this dataframe to an interactive table.\"\n",
              "            style=\"display:none;\">\n",
              "\n",
              "  <svg xmlns=\"http://www.w3.org/2000/svg\" height=\"24px\" viewBox=\"0 -960 960 960\">\n",
              "    <path d=\"M120-120v-720h720v720H120Zm60-500h600v-160H180v160Zm220 220h160v-160H400v160Zm0 220h160v-160H400v160ZM180-400h160v-160H180v160Zm440 0h160v-160H620v160ZM180-180h160v-160H180v160Zm440 0h160v-160H620v160Z\"/>\n",
              "  </svg>\n",
              "    </button>\n",
              "\n",
              "  <style>\n",
              "    .colab-df-container {\n",
              "      display:flex;\n",
              "      gap: 12px;\n",
              "    }\n",
              "\n",
              "    .colab-df-convert {\n",
              "      background-color: #E8F0FE;\n",
              "      border: none;\n",
              "      border-radius: 50%;\n",
              "      cursor: pointer;\n",
              "      display: none;\n",
              "      fill: #1967D2;\n",
              "      height: 32px;\n",
              "      padding: 0 0 0 0;\n",
              "      width: 32px;\n",
              "    }\n",
              "\n",
              "    .colab-df-convert:hover {\n",
              "      background-color: #E2EBFA;\n",
              "      box-shadow: 0px 1px 2px rgba(60, 64, 67, 0.3), 0px 1px 3px 1px rgba(60, 64, 67, 0.15);\n",
              "      fill: #174EA6;\n",
              "    }\n",
              "\n",
              "    .colab-df-buttons div {\n",
              "      margin-bottom: 4px;\n",
              "    }\n",
              "\n",
              "    [theme=dark] .colab-df-convert {\n",
              "      background-color: #3B4455;\n",
              "      fill: #D2E3FC;\n",
              "    }\n",
              "\n",
              "    [theme=dark] .colab-df-convert:hover {\n",
              "      background-color: #434B5C;\n",
              "      box-shadow: 0px 1px 3px 1px rgba(0, 0, 0, 0.15);\n",
              "      filter: drop-shadow(0px 1px 2px rgba(0, 0, 0, 0.3));\n",
              "      fill: #FFFFFF;\n",
              "    }\n",
              "  </style>\n",
              "\n",
              "    <script>\n",
              "      const buttonEl =\n",
              "        document.querySelector('#df-2de1128a-ba77-4720-a9ba-917e1b3d2d95 button.colab-df-convert');\n",
              "      buttonEl.style.display =\n",
              "        google.colab.kernel.accessAllowed ? 'block' : 'none';\n",
              "\n",
              "      async function convertToInteractive(key) {\n",
              "        const element = document.querySelector('#df-2de1128a-ba77-4720-a9ba-917e1b3d2d95');\n",
              "        const dataTable =\n",
              "          await google.colab.kernel.invokeFunction('convertToInteractive',\n",
              "                                                    [key], {});\n",
              "        if (!dataTable) return;\n",
              "\n",
              "        const docLinkHtml = 'Like what you see? Visit the ' +\n",
              "          '<a target=\"_blank\" href=https://colab.research.google.com/notebooks/data_table.ipynb>data table notebook</a>'\n",
              "          + ' to learn more about interactive tables.';\n",
              "        element.innerHTML = '';\n",
              "        dataTable['output_type'] = 'display_data';\n",
              "        await google.colab.output.renderOutput(dataTable, element);\n",
              "        const docLink = document.createElement('div');\n",
              "        docLink.innerHTML = docLinkHtml;\n",
              "        element.appendChild(docLink);\n",
              "      }\n",
              "    </script>\n",
              "  </div>\n",
              "\n",
              "\n",
              "<div id=\"df-31422257-77d2-4cea-9949-cb3fcb0de787\">\n",
              "  <button class=\"colab-df-quickchart\" onclick=\"quickchart('df-31422257-77d2-4cea-9949-cb3fcb0de787')\"\n",
              "            title=\"Suggest charts\"\n",
              "            style=\"display:none;\">\n",
              "\n",
              "<svg xmlns=\"http://www.w3.org/2000/svg\" height=\"24px\"viewBox=\"0 0 24 24\"\n",
              "     width=\"24px\">\n",
              "    <g>\n",
              "        <path d=\"M19 3H5c-1.1 0-2 .9-2 2v14c0 1.1.9 2 2 2h14c1.1 0 2-.9 2-2V5c0-1.1-.9-2-2-2zM9 17H7v-7h2v7zm4 0h-2V7h2v10zm4 0h-2v-4h2v4z\"/>\n",
              "    </g>\n",
              "</svg>\n",
              "  </button>\n",
              "\n",
              "<style>\n",
              "  .colab-df-quickchart {\n",
              "      --bg-color: #E8F0FE;\n",
              "      --fill-color: #1967D2;\n",
              "      --hover-bg-color: #E2EBFA;\n",
              "      --hover-fill-color: #174EA6;\n",
              "      --disabled-fill-color: #AAA;\n",
              "      --disabled-bg-color: #DDD;\n",
              "  }\n",
              "\n",
              "  [theme=dark] .colab-df-quickchart {\n",
              "      --bg-color: #3B4455;\n",
              "      --fill-color: #D2E3FC;\n",
              "      --hover-bg-color: #434B5C;\n",
              "      --hover-fill-color: #FFFFFF;\n",
              "      --disabled-bg-color: #3B4455;\n",
              "      --disabled-fill-color: #666;\n",
              "  }\n",
              "\n",
              "  .colab-df-quickchart {\n",
              "    background-color: var(--bg-color);\n",
              "    border: none;\n",
              "    border-radius: 50%;\n",
              "    cursor: pointer;\n",
              "    display: none;\n",
              "    fill: var(--fill-color);\n",
              "    height: 32px;\n",
              "    padding: 0;\n",
              "    width: 32px;\n",
              "  }\n",
              "\n",
              "  .colab-df-quickchart:hover {\n",
              "    background-color: var(--hover-bg-color);\n",
              "    box-shadow: 0 1px 2px rgba(60, 64, 67, 0.3), 0 1px 3px 1px rgba(60, 64, 67, 0.15);\n",
              "    fill: var(--button-hover-fill-color);\n",
              "  }\n",
              "\n",
              "  .colab-df-quickchart-complete:disabled,\n",
              "  .colab-df-quickchart-complete:disabled:hover {\n",
              "    background-color: var(--disabled-bg-color);\n",
              "    fill: var(--disabled-fill-color);\n",
              "    box-shadow: none;\n",
              "  }\n",
              "\n",
              "  .colab-df-spinner {\n",
              "    border: 2px solid var(--fill-color);\n",
              "    border-color: transparent;\n",
              "    border-bottom-color: var(--fill-color);\n",
              "    animation:\n",
              "      spin 1s steps(1) infinite;\n",
              "  }\n",
              "\n",
              "  @keyframes spin {\n",
              "    0% {\n",
              "      border-color: transparent;\n",
              "      border-bottom-color: var(--fill-color);\n",
              "      border-left-color: var(--fill-color);\n",
              "    }\n",
              "    20% {\n",
              "      border-color: transparent;\n",
              "      border-left-color: var(--fill-color);\n",
              "      border-top-color: var(--fill-color);\n",
              "    }\n",
              "    30% {\n",
              "      border-color: transparent;\n",
              "      border-left-color: var(--fill-color);\n",
              "      border-top-color: var(--fill-color);\n",
              "      border-right-color: var(--fill-color);\n",
              "    }\n",
              "    40% {\n",
              "      border-color: transparent;\n",
              "      border-right-color: var(--fill-color);\n",
              "      border-top-color: var(--fill-color);\n",
              "    }\n",
              "    60% {\n",
              "      border-color: transparent;\n",
              "      border-right-color: var(--fill-color);\n",
              "    }\n",
              "    80% {\n",
              "      border-color: transparent;\n",
              "      border-right-color: var(--fill-color);\n",
              "      border-bottom-color: var(--fill-color);\n",
              "    }\n",
              "    90% {\n",
              "      border-color: transparent;\n",
              "      border-bottom-color: var(--fill-color);\n",
              "    }\n",
              "  }\n",
              "</style>\n",
              "\n",
              "  <script>\n",
              "    async function quickchart(key) {\n",
              "      const quickchartButtonEl =\n",
              "        document.querySelector('#' + key + ' button');\n",
              "      quickchartButtonEl.disabled = true;  // To prevent multiple clicks.\n",
              "      quickchartButtonEl.classList.add('colab-df-spinner');\n",
              "      try {\n",
              "        const charts = await google.colab.kernel.invokeFunction(\n",
              "            'suggestCharts', [key], {});\n",
              "      } catch (error) {\n",
              "        console.error('Error during call to suggestCharts:', error);\n",
              "      }\n",
              "      quickchartButtonEl.classList.remove('colab-df-spinner');\n",
              "      quickchartButtonEl.classList.add('colab-df-quickchart-complete');\n",
              "    }\n",
              "    (() => {\n",
              "      let quickchartButtonEl =\n",
              "        document.querySelector('#df-31422257-77d2-4cea-9949-cb3fcb0de787 button');\n",
              "      quickchartButtonEl.style.display =\n",
              "        google.colab.kernel.accessAllowed ? 'block' : 'none';\n",
              "    })();\n",
              "  </script>\n",
              "</div>\n",
              "    </div>\n",
              "  </div>\n"
            ],
            "application/vnd.google.colaboratory.intrinsic+json": {
              "type": "dataframe",
              "variable_name": "synthetic_df",
              "repr_error": "'str' object has no attribute 'empty'"
            }
          },
          "metadata": {},
          "execution_count": 19
        }
      ]
    },
    {
      "cell_type": "code",
      "source": [
        "synthetic_df.shape"
      ],
      "metadata": {
        "colab": {
          "base_uri": "https://localhost:8080/"
        },
        "id": "3z0FY1xEe81v",
        "outputId": "614c2dee-388c-4efd-b1e0-16256c2347fb"
      },
      "id": "3z0FY1xEe81v",
      "execution_count": null,
      "outputs": [
        {
          "output_type": "execute_result",
          "data": {
            "text/plain": [
              "(10, 6)"
            ]
          },
          "metadata": {},
          "execution_count": 24
        }
      ]
    },
    {
      "cell_type": "markdown",
      "source": [
        "### Start exploring based on your usecase and use the same approach for real sensitive data. But, be careful, as the synthetic data might not capture the real-world complexities."
      ],
      "metadata": {
        "id": "pYsSc2jcfr6R"
      },
      "id": "pYsSc2jcfr6R"
    }
  ],
  "metadata": {
    "kernelspec": {
      "display_name": "Python 3 (ipykernel)",
      "language": "python",
      "name": "python3"
    },
    "language_info": {
      "codemirror_mode": {
        "name": "ipython",
        "version": 3
      },
      "file_extension": ".py",
      "mimetype": "text/x-python",
      "name": "python",
      "nbconvert_exporter": "python",
      "pygments_lexer": "ipython3",
      "version": "3.9.1"
    },
    "colab": {
      "provenance": []
    }
  },
  "nbformat": 4,
  "nbformat_minor": 5
}